{
  "nbformat": 4,
  "nbformat_minor": 0,
  "metadata": {
    "colab": {
      "name": "Untitled6.ipynb",
      "provenance": [],
      "authorship_tag": "ABX9TyMp4210RKdiKoRpzBFLniVS",
      "include_colab_link": true
    },
    "kernelspec": {
      "name": "python3",
      "display_name": "Python 3"
    },
    "language_info": {
      "name": "python"
    }
  },
  "cells": [
    {
      "cell_type": "markdown",
      "metadata": {
        "id": "view-in-github",
        "colab_type": "text"
      },
      "source": [
        "<a href=\"https://colab.research.google.com/github/Abhinav169/OOP-TASK-5/blob/main/Untitled6.ipynb\" target=\"_parent\"><img src=\"https://colab.research.google.com/assets/colab-badge.svg\" alt=\"Open In Colab\"/></a>"
      ]
    },
    {
      "cell_type": "code",
      "metadata": {
        "id": "2kor_xSsPOPE"
      },
      "source": [
        "class Travel:\n",
        "\n",
        "  def _init_(self, travel):\n",
        "    self.travel = travel\n",
        "\n",
        "  def __number_of_passangers(self):\n",
        "    pass\n",
        "\n",
        "  def distance(self):\n",
        "    pass\n",
        "\n",
        "  def mode(self):\n",
        "    pass\n",
        "\n",
        "class train(Travel):\n",
        "\n",
        "  def _init_(self, total_passangers):\n",
        "    self.total_passangers = total_passangers\n",
        "\n",
        "  def cost_of_transport(self):\n",
        "    print(self.total_passangers*60)\n",
        "\n",
        "class bus(Travel):\n",
        "\n",
        "  def _init_(self, total_passangers):\n",
        "    self.total_passangers = total_passangers\n",
        "\n",
        "  def cost_of_transport(self):\n",
        "    print(self.total_passangers*100)\n",
        "\n",
        "mode1 = train(1056)\n",
        "mode1.cost_of_transport()\n",
        "\n",
        "mode2 = bus(60)\n",
        "mode2.cost_of_transport()"
      ],
      "execution_count": null,
      "outputs": []
    },
    {
      "cell_type": "code",
      "metadata": {
        "id": "hBYYZq6GPQeO"
      },
      "source": [
        ""
      ],
      "execution_count": null,
      "outputs": []
    },
    {
      "cell_type": "code",
      "metadata": {
        "id": "wF1EcJpJPQkd"
      },
      "source": [
        "\n",
        "class Car:\n",
        "\n",
        "  def _init_(self, model_no):\n",
        "    self.model_no = model_no\n",
        "\n",
        "  def print_model_no(self):\n",
        "    print(self.model_no)\n",
        "\n",
        "c1 = Car(\"model no. of c1 = a123\")\n",
        "c1.print_model_no()\n",
        "\n",
        "c2 = Car(\"model no. of c2 = b123\")\n",
        "c2.print_model_no()\n",
        "print(\"\\n\")\n",
        "\n",
        "var = c1\n",
        "c1 = c2\n",
        "c2 = var\n",
        "\n",
        "c1.print_model_no()\n",
        "c2.print_model_no()"
      ],
      "execution_count": null,
      "outputs": []
    },
    {
      "cell_type": "code",
      "metadata": {
        "id": "iQDcvKEJPWx1"
      },
      "source": [
        "class Shape(ABC):\n",
        "    def _init_(self, shape):\n",
        "        self.shape = shape\n",
        "\n",
        "    @abstractmethod\n",
        "    def area(self):\n",
        "        pass\n",
        "\n",
        "class Rectangle(Shape):\n",
        "    def _init_(self, length, breadth):\n",
        "        Shape._init_(self, 'Rectangle')\n",
        "        self.length = length\n",
        "        self.breadth = breadth\n",
        "\n",
        "    def area(self):\n",
        "        return self.length*self.breadth\n",
        "\n",
        "class Circle(Shape):\n",
        "    def _init_(self, radius):\n",
        "        Shape._init_(self, 'Circle')\n",
        "        self.radius = radius\n",
        "\n",
        "    def area(self):\n",
        "        return round((math.pi)(self.radius*2),3)\n",
        "\n",
        "class Square(Shape):\n",
        "    def _init_(self, side):\n",
        "        Shape._init_(self, 'Square')\n",
        "        self.side = side\n",
        "\n",
        "    def area(self):\n",
        "        return self.side*self.side\n",
        "\n",
        "sq = Square(5)\n",
        "print(\"Area of square   :\", sq.area())\n",
        "rect = Rectangle(2,3)\n",
        "print(\"Area of rectangle:\", rect.area())\n",
        "c = Circle(4)\n",
        "print(\"Area of circle   :\", c.area())"
      ],
      "execution_count": null,
      "outputs": []
    }
  ]
}